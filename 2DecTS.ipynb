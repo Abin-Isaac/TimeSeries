{
  "nbformat": 4,
  "nbformat_minor": 0,
  "metadata": {
    "colab": {
      "name": "2DecTS.ipynb",
      "private_outputs": true,
      "provenance": []
    },
    "kernelspec": {
      "name": "python3",
      "display_name": "Python 3"
    },
    "language_info": {
      "name": "python"
    }
  },
  "cells": [
    {
      "cell_type": "markdown",
      "metadata": {
        "id": "c0X6mAkBmaTB"
      },
      "source": [
        "Source Links :\n",
        "\n",
        "[https://www.analyticsvidhya.com/blog/2021/07/time-series-forecasting-complete-tutorial-part-1/](https://)\n",
        "\n",
        "Author : Abin Isaac\n"
      ]
    },
    {
      "cell_type": "markdown",
      "metadata": {
        "id": "aKeKA5XhrRBS"
      },
      "source": [
        "Time Series, \n",
        "Seasonality, trend, Irregularity \n",
        "Stationary & Rolling Statistics\n",
        "Moving average, window size\n",
        "Additive & Multiplicative Time series\n",
        "Time series exponential smoothing - Simple, Double and Triple "
      ]
    },
    {
      "cell_type": "markdown",
      "metadata": {
        "id": "0r9T0rXJ4JwV"
      },
      "source": [
        "Time Series : Collection of data based on time\n",
        "\n",
        "Seasonality : Seasonal effect for example there will be hike in tours and travels in november and decemeber.\n",
        "\n",
        "Trend : Increasing or Decreasing trend depending on value of organization or Sales over time.\n",
        "\n",
        "Irregulairty : Unexpected like pandemic \n",
        "\n",
        "Stationary Data : When the time series data has similar or almost same mean and variance.\n",
        "\n",
        "Rolling Statistics : Used to smoothening data \n",
        "\n",
        "running average : Calculating average on the basis of window size\n",
        "\n",
        "Window : Number of past values which will be taken care of \n",
        "\n",
        "\n",
        "Additive Addition of seasonality trend and irregularity = Base value + seasonality + trend + error \n",
        "\n",
        "Multiplicative : Multiplication of seasonality trend and irregularity = Base value * seasonality * trend * error \n",
        "\n",
        "Exponential Smothing : Past value and weightage as per occurences\n",
        "\n",
        "Smooth Exp. smoothing :  yT = α * XT + α(1−α) * yT−1\n",
        "\n",
        "Double Exp. Smoothing : \n",
        "\n",
        "Yt =  α * Xt + (1-α) (yt-1 + bt-1)  #trend component\n",
        "\n",
        "    where, bt = beta * (Yt – Yt-1) +  (1-beta) * bt-1\n",
        "\n",
        "triple exponential smoothing : \n",
        "\n",
        "  Y = alpha * (Xt / Ct-1) + (1 – alpha)*(Y t-1 + bt-1)\n",
        "\n",
        "       where, ct = gamma * (xt/yt) + (1-alpha) * ct-alpha"
      ]
    }
  ]
}